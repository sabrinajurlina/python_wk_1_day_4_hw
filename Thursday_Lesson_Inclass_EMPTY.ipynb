{
 "cells": [
  {
   "cell_type": "markdown",
   "metadata": {},
   "source": [
    "# Object-Oriented-Programming (OOP)"
   ]
  },
  {
   "cell_type": "markdown",
   "metadata": {},
   "source": [
    "## Tasks Today:\n",
    "\n",
    "   \n",
    "\n",
    "1) <b>Creating a Class (Initializing/Declaring)</b> <br>\n",
    "2) <b>Using a Class (Instantiating)</b> <br>\n",
    " &nbsp;&nbsp;&nbsp;&nbsp; a) Creating One Instance <br>\n",
    " &nbsp;&nbsp;&nbsp;&nbsp; b) Creating Multiple Instances <br>\n",
    " &nbsp;&nbsp;&nbsp;&nbsp; c) In-Class Exercise #1 - Create a Class 'Car' and instantiate three different makes of cars <br>\n",
    "3) <b>The \\__init\\__() Method</b> <br>\n",
    " &nbsp;&nbsp;&nbsp;&nbsp; a) The 'self' Attribute <br>\n",
    "4) <b>Class Attributes</b> <br>\n",
    " &nbsp;&nbsp;&nbsp;&nbsp; a) Initializing Attributes <br>\n",
    " &nbsp;&nbsp;&nbsp;&nbsp; b) Setting an Attribute Outside of the \\__init\\__() Method <br>\n",
    " &nbsp;&nbsp;&nbsp;&nbsp; c) Setting Defaults for Attributes <br>\n",
    " &nbsp;&nbsp;&nbsp;&nbsp; d) Accessing Class Attributes <br>\n",
    " &nbsp;&nbsp;&nbsp;&nbsp; e) Changing Class Attributes <br>\n",
    " &nbsp;&nbsp;&nbsp;&nbsp; f) In-Class Exercise #2 - Add a color and wheels attribute to your 'Car' class <br>\n",
    "5) <b>Class Methods</b> <br>\n",
    " &nbsp;&nbsp;&nbsp;&nbsp; a) Creating <br>\n",
    " &nbsp;&nbsp;&nbsp;&nbsp; b) Calling <br>\n",
    " &nbsp;&nbsp;&nbsp;&nbsp; c) Modifying an Attribute's Value Through a Method <br>\n",
    " &nbsp;&nbsp;&nbsp;&nbsp; d) Incrementing an Attribute's Value Through a Method <br>\n",
    " &nbsp;&nbsp;&nbsp;&nbsp; e) In-Class Exercise #3 - Add a method that prints the cars color and wheel number, then call them <br>\n",
    "6) <b>Inheritance</b> <br>\n",
    " &nbsp;&nbsp;&nbsp;&nbsp; a) Syntax for Inheriting from a Parent Class <br>\n",
    " &nbsp;&nbsp;&nbsp;&nbsp; b) The \\__init\\__() Method for a Child Class (super()) <br>\n",
    " &nbsp;&nbsp;&nbsp;&nbsp; c) Defining Attributes and Methods for the Child Class <br>\n",
    " &nbsp;&nbsp;&nbsp;&nbsp; d) Method Overriding <br>\n",
    " &nbsp;&nbsp;&nbsp;&nbsp; e) In-Class Exercise #4 - Create a class 'Ford' that inherits from 'Car' class and initialize it as a Blue Ford Explorer with 4 wheels using the super() method <br>\n",
    "7) <b>Classes as Attributes</b> <br>\n",
    "8) <b>Exercises</b> <br>\n",
    " &nbsp;&nbsp;&nbsp;&nbsp; a) Exercise #1 - Turn the shopping cart program from yesterday into an object-oriented program <br>"
   ]
  },
  {
   "cell_type": "code",
   "execution_count": 1,
   "metadata": {},
   "outputs": [
    {
     "name": "stdout",
     "output_type": "stream",
     "text": [
      "Your Cart Contains:\n",
      "Your Cart is empty\n"
     ]
    },
    {
     "ename": "KeyboardInterrupt",
     "evalue": "Interrupted by user",
     "output_type": "error",
     "traceback": [
      "\u001b[0;31m---------------------------------------------------------------------------\u001b[0m",
      "\u001b[0;31mKeyboardInterrupt\u001b[0m                         Traceback (most recent call last)",
      "\u001b[0;32m/var/folders/w9/p7gllp5j4jg0vm6b3g81k0cm0000gn/T/ipykernel_6833/3810092103.py\u001b[0m in \u001b[0;36m<module>\u001b[0;34m\u001b[0m\n\u001b[1;32m     51\u001b[0m \u001b[0;34m\u001b[0m\u001b[0m\n\u001b[1;32m     52\u001b[0m \u001b[0;31m# Driver Code\u001b[0m\u001b[0;34m\u001b[0m\u001b[0;34m\u001b[0m\u001b[0m\n\u001b[0;32m---> 53\u001b[0;31m \u001b[0mshopping_cart\u001b[0m\u001b[0;34m(\u001b[0m\u001b[0;34m)\u001b[0m\u001b[0;34m\u001b[0m\u001b[0;34m\u001b[0m\u001b[0m\n\u001b[0m",
      "\u001b[0;32m/var/folders/w9/p7gllp5j4jg0vm6b3g81k0cm0000gn/T/ipykernel_6833/3810092103.py\u001b[0m in \u001b[0;36mshopping_cart\u001b[0;34m()\u001b[0m\n\u001b[1;32m     32\u001b[0m \u001b[0;32mdef\u001b[0m \u001b[0mshopping_cart\u001b[0m\u001b[0;34m(\u001b[0m\u001b[0;34m)\u001b[0m\u001b[0;34m:\u001b[0m\u001b[0;34m\u001b[0m\u001b[0;34m\u001b[0m\u001b[0m\n\u001b[1;32m     33\u001b[0m     \u001b[0;32mwhile\u001b[0m \u001b[0;32mTrue\u001b[0m\u001b[0;34m:\u001b[0m\u001b[0;34m\u001b[0m\u001b[0;34m\u001b[0m\u001b[0m\n\u001b[0;32m---> 34\u001b[0;31m         \u001b[0mresponse\u001b[0m \u001b[0;34m=\u001b[0m \u001b[0minput\u001b[0m\u001b[0;34m(\u001b[0m\u001b[0;34m\"What would you like to do?  You can: quit/ add/ remove/ show/ or clear/ \\n Choose only one \\n\"\u001b[0m\u001b[0;34m)\u001b[0m\u001b[0;34m\u001b[0m\u001b[0;34m\u001b[0m\u001b[0m\n\u001b[0m\u001b[1;32m     35\u001b[0m         \u001b[0;32mif\u001b[0m \u001b[0mresponse\u001b[0m\u001b[0;34m.\u001b[0m\u001b[0mlower\u001b[0m\u001b[0;34m(\u001b[0m\u001b[0;34m)\u001b[0m\u001b[0;34m.\u001b[0m\u001b[0mstrip\u001b[0m\u001b[0;34m(\u001b[0m\u001b[0;34m)\u001b[0m \u001b[0;34m==\u001b[0m \u001b[0;34m'quit'\u001b[0m\u001b[0;34m:\u001b[0m\u001b[0;34m\u001b[0m\u001b[0;34m\u001b[0m\u001b[0m\n\u001b[1;32m     36\u001b[0m             \u001b[0mshow_cart\u001b[0m\u001b[0;34m(\u001b[0m\u001b[0;34m)\u001b[0m\u001b[0;34m\u001b[0m\u001b[0;34m\u001b[0m\u001b[0m\n",
      "\u001b[0;32m~/opt/anaconda3/lib/python3.9/site-packages/ipykernel/kernelbase.py\u001b[0m in \u001b[0;36mraw_input\u001b[0;34m(self, prompt)\u001b[0m\n\u001b[1;32m   1004\u001b[0m                 \u001b[0;34m\"raw_input was called, but this frontend does not support input requests.\"\u001b[0m\u001b[0;34m\u001b[0m\u001b[0;34m\u001b[0m\u001b[0m\n\u001b[1;32m   1005\u001b[0m             )\n\u001b[0;32m-> 1006\u001b[0;31m         return self._input_request(\n\u001b[0m\u001b[1;32m   1007\u001b[0m             \u001b[0mstr\u001b[0m\u001b[0;34m(\u001b[0m\u001b[0mprompt\u001b[0m\u001b[0;34m)\u001b[0m\u001b[0;34m,\u001b[0m\u001b[0;34m\u001b[0m\u001b[0;34m\u001b[0m\u001b[0m\n\u001b[1;32m   1008\u001b[0m             \u001b[0mself\u001b[0m\u001b[0;34m.\u001b[0m\u001b[0m_parent_ident\u001b[0m\u001b[0;34m[\u001b[0m\u001b[0;34m\"shell\"\u001b[0m\u001b[0;34m]\u001b[0m\u001b[0;34m,\u001b[0m\u001b[0;34m\u001b[0m\u001b[0;34m\u001b[0m\u001b[0m\n",
      "\u001b[0;32m~/opt/anaconda3/lib/python3.9/site-packages/ipykernel/kernelbase.py\u001b[0m in \u001b[0;36m_input_request\u001b[0;34m(self, prompt, ident, parent, password)\u001b[0m\n\u001b[1;32m   1049\u001b[0m             \u001b[0;32mexcept\u001b[0m \u001b[0mKeyboardInterrupt\u001b[0m\u001b[0;34m:\u001b[0m\u001b[0;34m\u001b[0m\u001b[0;34m\u001b[0m\u001b[0m\n\u001b[1;32m   1050\u001b[0m                 \u001b[0;31m# re-raise KeyboardInterrupt, to truncate traceback\u001b[0m\u001b[0;34m\u001b[0m\u001b[0;34m\u001b[0m\u001b[0m\n\u001b[0;32m-> 1051\u001b[0;31m                 \u001b[0;32mraise\u001b[0m \u001b[0mKeyboardInterrupt\u001b[0m\u001b[0;34m(\u001b[0m\u001b[0;34m\"Interrupted by user\"\u001b[0m\u001b[0;34m)\u001b[0m \u001b[0;32mfrom\u001b[0m \u001b[0;32mNone\u001b[0m\u001b[0;34m\u001b[0m\u001b[0;34m\u001b[0m\u001b[0m\n\u001b[0m\u001b[1;32m   1052\u001b[0m             \u001b[0;32mexcept\u001b[0m \u001b[0mException\u001b[0m\u001b[0;34m:\u001b[0m\u001b[0;34m\u001b[0m\u001b[0;34m\u001b[0m\u001b[0m\n\u001b[1;32m   1053\u001b[0m                 \u001b[0mself\u001b[0m\u001b[0;34m.\u001b[0m\u001b[0mlog\u001b[0m\u001b[0;34m.\u001b[0m\u001b[0mwarning\u001b[0m\u001b[0;34m(\u001b[0m\u001b[0;34m\"Invalid Message:\"\u001b[0m\u001b[0;34m,\u001b[0m \u001b[0mexc_info\u001b[0m\u001b[0;34m=\u001b[0m\u001b[0;32mTrue\u001b[0m\u001b[0;34m)\u001b[0m\u001b[0;34m\u001b[0m\u001b[0;34m\u001b[0m\u001b[0m\n",
      "\u001b[0;31mKeyboardInterrupt\u001b[0m: Interrupted by user"
     ]
    }
   ],
   "source": [
    "from IPython.display import clear_output\n",
    "\n",
    "\n",
    "cart = []\n",
    "\n",
    "# Show, add, remove, clear\n",
    "\n",
    "def show_cart():\n",
    "    clear_output()\n",
    "    print(\"Your Cart Contains:\")\n",
    "    for item in cart:\n",
    "        print(item)\n",
    "    if not cart:\n",
    "        print(\"Your Cart is empty\")\n",
    "\n",
    "def add_item(item):\n",
    "    clear_output()\n",
    "    cart.append(item)\n",
    "    print(f\"{item} was added to your cart\")\n",
    "\n",
    "def remove_item(item):\n",
    "    clear_output()\n",
    "    cart.remove(item)\n",
    "    print(f\"{item} was removed from your cart\")\n",
    "\n",
    "def clear_cart():\n",
    "    clear_output()\n",
    "    cart.clear()\n",
    "    print(\"You cart is empty\")\n",
    "\n",
    "#UI\n",
    "def shopping_cart():\n",
    "    while True:\n",
    "        response = input(\"What would you like to do?  You can: quit/ add/ remove/ show/ or clear/ \\n Choose only one \\n\")\n",
    "        if response.lower().strip() == 'quit':\n",
    "            show_cart()\n",
    "            print(\"Thanks for Shopping\")\n",
    "            break\n",
    "        elif response.lower().strip() == 'add':\n",
    "            item1 = input(\"What would you like to add? \")\n",
    "            add_item(item1)\n",
    "        elif response.lower().strip() == 'remove':\n",
    "            item2 = input(\"What would you like to remove? \")\n",
    "            remove_item(item2)\n",
    "        elif response.lower().strip() == 'show':\n",
    "            show_cart()\n",
    "        elif response.lower().strip() == 'clear':\n",
    "            clear_cart()\n",
    "        else:\n",
    "            print(\"Invalid Option You Hockey Puck!\")\n",
    "            \n",
    "# Driver Code        \n",
    "shopping_cart()"
   ]
  },
  {
   "cell_type": "code",
   "execution_count": null,
   "metadata": {},
   "outputs": [],
   "source": [
    "# Circumfrance of a cirle\n"
   ]
  },
  {
   "cell_type": "markdown",
   "metadata": {},
   "source": [
    "## Creating a Class (Initializing/Declaring)\n",
    "<p>When creating a class, function, or even a variable you are initializing that object. Initializing and Declaring occur at the same time in Python, whereas in lower level languages you have to declare an object before initializing it. This is the first step in the process of using a class.</p>"
   ]
  },
  {
   "cell_type": "code",
   "execution_count": null,
   "metadata": {},
   "outputs": [],
   "source": [
    "my_string1 = 1"
   ]
  },
  {
   "cell_type": "markdown",
   "metadata": {},
   "source": [
    "## Using a Class (Instantiating)\n",
    "<p>The process of creating a class is called <i>Instantiating</i>. Each time you create a variable of that type of class, it is referred to as an <i>Instance</i> of that class. This is the second step in the process of using a class.</p>"
   ]
  },
  {
   "cell_type": "markdown",
   "metadata": {},
   "source": [
    "##### Creating One Instance"
   ]
  },
  {
   "cell_type": "code",
   "execution_count": 8,
   "metadata": {},
   "outputs": [],
   "source": [
    "class Car():\n",
    "    wheels = 4\n",
    "    color = 'blue'"
   ]
  },
  {
   "cell_type": "markdown",
   "metadata": {},
   "source": [
    "##### Creating Multiple Instances"
   ]
  },
  {
   "cell_type": "code",
   "execution_count": 9,
   "metadata": {},
   "outputs": [
    {
     "data": {
      "text/plain": [
       "<__main__.Car at 0x106a1bfa0>"
      ]
     },
     "execution_count": 9,
     "metadata": {},
     "output_type": "execute_result"
    }
   ],
   "source": [
    "ford = Car()\n",
    "ford"
   ]
  },
  {
   "cell_type": "code",
   "execution_count": 12,
   "metadata": {},
   "outputs": [
    {
     "data": {
      "text/plain": [
       "4"
      ]
     },
     "execution_count": 12,
     "metadata": {},
     "output_type": "execute_result"
    }
   ],
   "source": [
    "ford.wheels"
   ]
  },
  {
   "cell_type": "code",
   "execution_count": 13,
   "metadata": {},
   "outputs": [
    {
     "data": {
      "text/plain": [
       "'blue'"
      ]
     },
     "execution_count": 13,
     "metadata": {},
     "output_type": "execute_result"
    }
   ],
   "source": [
    "ford.color"
   ]
  },
  {
   "cell_type": "markdown",
   "metadata": {},
   "source": [
    "##### In-Class Exercise #1 - Create a Class 'Car' and Instantiate three different makes of cars"
   ]
  },
  {
   "cell_type": "code",
   "execution_count": 14,
   "metadata": {},
   "outputs": [
    {
     "name": "stdout",
     "output_type": "stream",
     "text": [
      "4\n",
      "4\n",
      "blue\n",
      "blue\n"
     ]
    }
   ],
   "source": [
    "chevy = Car()\n",
    "honda = Car()\n",
    "porsche = Car()\n",
    "print(chevy.wheels)\n",
    "print(honda.wheels)\n",
    "print(porsche.color)\n",
    "print(chevy.color)"
   ]
  },
  {
   "cell_type": "code",
   "execution_count": 15,
   "metadata": {},
   "outputs": [
    {
     "name": "stdout",
     "output_type": "stream",
     "text": [
      "2\n",
      "2\n",
      "2\n"
     ]
    }
   ],
   "source": [
    "class Plane():\n",
    "    color = 'white'\n",
    "    wheels = 3\n",
    "    wings = 2\n",
    "    seats = 'varies'\n",
    "cessna = Plane()\n",
    "boeing = Plane()\n",
    "cirrus = Plane()\n",
    "print(cessna.wings)\n",
    "print(boeing.wings)\n",
    "print(cirrus.wings)"
   ]
  },
  {
   "cell_type": "markdown",
   "metadata": {},
   "source": [
    "## The \\__init\\__() Method <br>\n",
    "<p>This method is used in almost every created class, and called only once upon the creation of the class instance. This method will initialize all variables needed for the object.</p>"
   ]
  },
  {
   "cell_type": "code",
   "execution_count": 17,
   "metadata": {},
   "outputs": [
    {
     "name": "stdout",
     "output_type": "stream",
     "text": [
      "4\n",
      "3\n",
      "4.7L\n",
      "4.7L\n",
      "4\n",
      "4.7L\n",
      "red\n",
      "3\n",
      "4.7L\n",
      "green\n"
     ]
    }
   ],
   "source": [
    "class Car():\n",
    "    engine = '4.7L' #class attribute\n",
    "    #constructor\n",
    "    def __init__(self, color, num_of_wheels = 4):\n",
    "        self.wheels = num_of_wheels #instance attributes\n",
    "        self.color = color #instance attributes\n",
    "ford = Car('red')\n",
    "trike = Car('green', 3)\n",
    "print(ford.wheels)\n",
    "print(trike.wheels)\n",
    "print(ford.engine)\n",
    "print(trike.engine)\n",
    "\n",
    "my_cars = [ford, trike]\n",
    "\n",
    "for car in my_cars:\n",
    "    print(car.wheels)\n",
    "    print(car.engine)\n",
    "    print(car.color)"
   ]
  },
  {
   "cell_type": "markdown",
   "metadata": {},
   "source": [
    "##### The 'self' Attribute <br>\n",
    "<p>This attribute is required to keep track of specific instance's attributes. Without the self attribute, the program would not know how to reference or keep track of an instance's attributes.</p>"
   ]
  },
  {
   "cell_type": "code",
   "execution_count": null,
   "metadata": {},
   "outputs": [],
   "source": [
    "# see above"
   ]
  },
  {
   "cell_type": "markdown",
   "metadata": {},
   "source": [
    "## Class Attributes <br>\n",
    "<p>While variables are inside of a class, they are referred to as attributes and not variables. When someone says 'attribute' you know they're speaking about a class. Attributes can be initialized through the init method, or outside of it.</p>"
   ]
  },
  {
   "cell_type": "markdown",
   "metadata": {},
   "source": [
    "##### Initializing Attributes"
   ]
  },
  {
   "cell_type": "code",
   "execution_count": null,
   "metadata": {},
   "outputs": [],
   "source": [
    "# see above"
   ]
  },
  {
   "cell_type": "markdown",
   "metadata": {},
   "source": [
    "##### Accessing Class Attributes"
   ]
  },
  {
   "cell_type": "code",
   "execution_count": null,
   "metadata": {
    "scrolled": true
   },
   "outputs": [],
   "source": [
    "# See Above"
   ]
  },
  {
   "cell_type": "markdown",
   "metadata": {},
   "source": [
    "##### Setting Defaults for Attributes"
   ]
  },
  {
   "cell_type": "code",
   "execution_count": null,
   "metadata": {},
   "outputs": [],
   "source": []
  },
  {
   "cell_type": "markdown",
   "metadata": {},
   "source": [
    "##### Changing Class Attributes <br>\n",
    "<p>Keep in mind there are global class attributes and then there are attributes only available to each class instance which won't effect other classes.</p>"
   ]
  },
  {
   "cell_type": "code",
   "execution_count": 36,
   "metadata": {},
   "outputs": [
    {
     "name": "stdout",
     "output_type": "stream",
     "text": [
      "4\n",
      "3\n",
      "4.7L\n",
      "4.7L\n",
      "4\n",
      "4.7L\n",
      "red\n",
      "3\n",
      "4.7L\n",
      "green\n",
      "2.0L\n",
      "4.7L\n"
     ]
    }
   ],
   "source": [
    "#changing the class variable on an instance\n",
    "class Car():\n",
    "    engine = '4.7L' #class attribute\n",
    "    #constructor\n",
    "    def __init__(self, color, num_of_wheels = 4):\n",
    "        self.wheels = num_of_wheels #instance attributes\n",
    "        self.color = color #instance attributes\n",
    "ford = Car('red')\n",
    "trike = Car('green', 3)\n",
    "print(ford.wheels)\n",
    "print(trike.wheels)\n",
    "print(ford.engine)\n",
    "print(trike.engine)\n",
    "\n",
    "my_cars = [ford, trike]\n",
    "\n",
    "for car in my_cars:\n",
    "    print(car.wheels)\n",
    "    print(car.engine)\n",
    "    print(car.color)\n",
    "\n",
    "\n",
    "trike.engine = '2.0L'\n",
    "print(trike.engine)\n",
    "print(ford.engine)"
   ]
  },
  {
   "cell_type": "code",
   "execution_count": 37,
   "metadata": {},
   "outputs": [
    {
     "name": "stdout",
     "output_type": "stream",
     "text": [
      "4.7L\n",
      "1.5L\n"
     ]
    }
   ],
   "source": [
    "#change the class variable across all cars...this is supposed to only change for new instances, not previous instances.\n",
    "#(but this is not working for me?)\n",
    "class Car():\n",
    "    engine = '4.7L' #class attribute\n",
    "    #constructor\n",
    "    def __init__(self, color, num_of_wheels = 4):\n",
    "        self.wheels = num_of_wheels #instance attributes\n",
    "        self.color = color #instance attributes\n",
    "        \n",
    "my_cars = [ford, trike]\n",
    "\n",
    "trike.engine = '2.0L'\n",
    "Car.engine = '1.5L'\n",
    "print(ford.engine)\n",
    "new_car = Car('yellow')\n",
    "print(new_car.engine)"
   ]
  },
  {
   "cell_type": "code",
   "execution_count": 26,
   "metadata": {},
   "outputs": [
    {
     "data": {
      "text/plain": [
       "'1.5L'"
      ]
     },
     "execution_count": 26,
     "metadata": {},
     "output_type": "execute_result"
    }
   ],
   "source": [
    "Car.engine #access a class attribute"
   ]
  },
  {
   "cell_type": "code",
   "execution_count": 27,
   "metadata": {},
   "outputs": [
    {
     "name": "stdout",
     "output_type": "stream",
     "text": [
      "red\n",
      "purple\n"
     ]
    }
   ],
   "source": [
    "#change an instance attribute\n",
    "print(ford.color)\n",
    "ford.color ='purple'\n",
    "print(ford.color)"
   ]
  },
  {
   "cell_type": "code",
   "execution_count": 28,
   "metadata": {},
   "outputs": [
    {
     "name": "stdout",
     "output_type": "stream",
     "text": [
      "True\n"
     ]
    }
   ],
   "source": [
    "#add an instance variable\n",
    "ford.is_truck = True\n",
    "print(ford.is_truck)"
   ]
  },
  {
   "cell_type": "code",
   "execution_count": 29,
   "metadata": {},
   "outputs": [
    {
     "data": {
      "text/plain": [
       "False"
      ]
     },
     "execution_count": 29,
     "metadata": {},
     "output_type": "execute_result"
    }
   ],
   "source": [
    "Car.has_sunroof = False\n",
    "new_car1 = Car('cyan')\n",
    "new_car1.has_sunroof #using things like 'is' and 'has' is verrrrry useful for reading your code"
   ]
  },
  {
   "cell_type": "markdown",
   "metadata": {},
   "source": [
    "##### In-Class Exercise #2 - Add a doors and seats attribute to your 'Car' class then print out two different instances with different doors and seats"
   ]
  },
  {
   "cell_type": "code",
   "execution_count": 44,
   "metadata": {},
   "outputs": [
    {
     "name": "stdout",
     "output_type": "stream",
     "text": [
      "2\n",
      "4\n",
      "6\n",
      "174\n"
     ]
    }
   ],
   "source": [
    "class Plane():\n",
    "    color = 'white'\n",
    "    wheels = 3\n",
    "    wings = 2\n",
    "    def __init__(self, num_of_doors, num_of_seats):\n",
    "        self.doors = num_of_doors\n",
    "        self.seats = num_of_seats\n",
    "\n",
    "cessna = Plane(2, 4)\n",
    "boeing = Plane(6, 174)\n",
    "print(cessna.doors)\n",
    "print(cessna.seats)\n",
    "print(boeing.doors)\n",
    "print(boeing.seats)"
   ]
  },
  {
   "cell_type": "markdown",
   "metadata": {},
   "source": [
    "## Class Methods <br>\n",
    "<p>While inside of a class, functions are referred to as 'methods'. If you hear someone mention methods, they're speaking about classes. Methods are essentially functions, but only callable on the instances of a class.</p>"
   ]
  },
  {
   "cell_type": "markdown",
   "metadata": {},
   "source": [
    "##### Creating"
   ]
  },
  {
   "cell_type": "code",
   "execution_count": 2,
   "metadata": {},
   "outputs": [
    {
     "name": "stdout",
     "output_type": "stream",
     "text": [
      "The car is purple with 5 seats and 4 wheels.\n",
      "VROOOOOOOM!\n",
      "The car is purple with 5 seats and 4 wheels.\n",
      "The car is purple with 6 seats and 4 wheels.\n",
      "The car is gold with 6 seats and 4 wheels.\n"
     ]
    }
   ],
   "source": [
    "class Car():\n",
    "    def __init__(self, wheels, color, seats):\n",
    "        self.wheels = wheels\n",
    "        self.color = color\n",
    "        self.seats = seats\n",
    "        self.has_sunroof = False\n",
    "    def drive(self):\n",
    "        print('VROOOOOOOM!')\n",
    "    \n",
    "    def set_color(self, new_color):\n",
    "        self.color = new_color\n",
    "    \n",
    "    def describe(self):\n",
    "        print(f\"The car is {self.color} with {self.seats} seats and {self.wheels} wheels.\")\n",
    "    \n",
    "    def add_seats(self):\n",
    "        self.seats += 1\n",
    "        \n",
    "chevy = Car(4, 'purple', 5)\n",
    "chevy.describe()\n",
    "chevy.drive()\n",
    "chevy.describe()\n",
    "chevy.add_seats()\n",
    "chevy.describe()\n",
    "chevy.set_color('gold')\n",
    "chevy.describe()"
   ]
  },
  {
   "cell_type": "markdown",
   "metadata": {},
   "source": [
    "##### Calling"
   ]
  },
  {
   "cell_type": "code",
   "execution_count": 9,
   "metadata": {},
   "outputs": [],
   "source": [
    "# See Above"
   ]
  },
  {
   "cell_type": "markdown",
   "metadata": {},
   "source": [
    "##### Modifying an Attribute's Value Through a Method"
   ]
  },
  {
   "cell_type": "code",
   "execution_count": null,
   "metadata": {},
   "outputs": [],
   "source": []
  },
  {
   "cell_type": "markdown",
   "metadata": {},
   "source": [
    "##### Incrementing an Attribute's Value Through a Method"
   ]
  },
  {
   "cell_type": "code",
   "execution_count": null,
   "metadata": {},
   "outputs": [],
   "source": []
  },
  {
   "cell_type": "markdown",
   "metadata": {},
   "source": [
    "##### In-Class Exercise #3 - Add a method that takes in three parameters of year, doors and seats and prints out a formatted print statement with make, model, year, seats, and doors"
   ]
  },
  {
   "cell_type": "code",
   "execution_count": 12,
   "metadata": {},
   "outputs": [
    {
     "name": "stdout",
     "output_type": "stream",
     "text": [
      "This car is from 2014 and is a jeep grand cherokee with 4 doors and 5 seats\n",
      "This car is from 2011 and is a Ford POS with 2 doors and 4 seats\n",
      "jeep grand cherokee is better than Ford POS.\n"
     ]
    }
   ],
   "source": [
    "# Create class with 2 paramters inside of the __init__ which are make and model\n",
    "class Car():\n",
    "    def __init__(self, make, model):\n",
    "        self.make = make\n",
    "        self.model = model\n",
    "# Inside of the Car class create a method that has 4 parameter in total (self,year,door,seats)\n",
    "    def add_details(self, year, doors, seats):\n",
    "        self.year = year\n",
    "        self.doors = doors\n",
    "        self.seats = seats\n",
    "    def describe(self):\n",
    "        print(f\"This car is from {self.year} and is a {self.make} {self.model} with {self.doors} doors and {self.seats} seats\")\n",
    "\n",
    "    @classmethod #this has no info about self...only the class!\n",
    "    def which_is_better(cls, car1, car2):\n",
    "        if car1.year > car2.year:\n",
    "            print(f\"{car1.make} {car1.model} is better than {car2.make} {car2.model}.\")\n",
    "        else:\n",
    "            print(f\"{car2.make} {car2.model} is better than {car1.make} {car1.model}.\")\n",
    "    \n",
    "my_car = Car('jeep', 'grand cherokee')\n",
    "my_car.add_details(2014, 4, 5)\n",
    "my_car.describe()\n",
    "\n",
    "alex_car = Car('Ford', 'POS')\n",
    "alex_car.add_details(2011, 2, 4)\n",
    "alex_car.describe()\n",
    "\n",
    "Car.which_is_better(my_car, alex_car)\n",
    "\n",
    "# Output: This car is from 2019 and is a Ford Expolorer and has 4 doors and 5 seats\n",
    "\n"
   ]
  },
  {
   "cell_type": "markdown",
   "metadata": {},
   "source": [
    "## Inheritance <br>\n",
    "<p>You can create a child-parent relationship between two classes by using inheritance. What this allows you to do is have overriding methods, but also inherit traits from the parent class. Think of it as an actual parent and child, the child will inherit the parent's genes, as will the classes in OOP</p>"
   ]
  },
  {
   "cell_type": "markdown",
   "metadata": {},
   "source": [
    "##### Syntax for Inheriting from a Parent Class"
   ]
  },
  {
   "cell_type": "code",
   "execution_count": 16,
   "metadata": {},
   "outputs": [
    {
     "name": "stdout",
     "output_type": "stream",
     "text": [
      "Some generic animal sound\n",
      "galloping\n",
      "The dog has 15 and 9.8 acceleration, and is a Black Lab, and is housetrained True.\n",
      "BARRRRK!\n",
      "galloping\n"
     ]
    }
   ],
   "source": [
    "class Animal():\n",
    "    acc = 9.8\n",
    "    def __init__(self, name, species, legs=4):\n",
    "        self.name = name\n",
    "        self.species = species\n",
    "        self.legs = legs\n",
    "        self.random = 55 #remember, we don't have to have all parameters in the def\n",
    "        \n",
    "    def speak(self):\n",
    "        print(\"Some generic animal sound\")\n",
    "        \n",
    "    def run(self):\n",
    "        print('galloping')\n",
    "\n",
    "zebra = Animal('Zee', 'Zebra')\n",
    "zebra.speak()\n",
    "zebra.run()\n",
    "\n",
    "class Dog(Animal):\n",
    "    speed = 15\n",
    "    def __init__(self, is_house_trained, name, species, legs=4): #anything you took in the parent class, we have to take in here\n",
    "        super().__init__(name, species, legs)\n",
    "        self.is_house_trained = is_house_trained #isDog has one more attribute than isAnimal\n",
    "    def describe(self):\n",
    "        print(f\"The dog has {self.speed} and {self.acc} acceleration, and is a {self.species}, and is housetrained {self.is_house_trained}.\")\n",
    "        \n",
    "    #method overriding...this will override the method in the parent class \n",
    "    def speak(self):\n",
    "        print(\"BARRRRK!\")\n",
    "\n",
    "nala = Dog(True, 'Nala', 'Black Lab')\n",
    "nala.describe()\n",
    "nala.speak()\n",
    "nala.run()\n",
    "        "
   ]
  },
  {
   "cell_type": "code",
   "execution_count": 17,
   "metadata": {},
   "outputs": [
    {
     "data": {
      "text/plain": [
       "False"
      ]
     },
     "execution_count": 17,
     "metadata": {},
     "output_type": "execute_result"
    }
   ],
   "source": [
    "isinstance('hey', int)"
   ]
  },
  {
   "cell_type": "code",
   "execution_count": 18,
   "metadata": {},
   "outputs": [
    {
     "data": {
      "text/plain": [
       "True"
      ]
     },
     "execution_count": 18,
     "metadata": {},
     "output_type": "execute_result"
    }
   ],
   "source": [
    "isinstance(nala, Dog)\n",
    "isinstance(nala, Animal)"
   ]
  },
  {
   "cell_type": "markdown",
   "metadata": {},
   "source": [
    "##### The \\__init\\__() Method for a Child Class - super()"
   ]
  },
  {
   "cell_type": "code",
   "execution_count": null,
   "metadata": {
    "scrolled": true
   },
   "outputs": [],
   "source": []
  },
  {
   "cell_type": "markdown",
   "metadata": {},
   "source": [
    "##### Defining Attributes and Methods for the Child Class"
   ]
  },
  {
   "cell_type": "code",
   "execution_count": null,
   "metadata": {},
   "outputs": [],
   "source": [
    "# See Above"
   ]
  },
  {
   "cell_type": "markdown",
   "metadata": {},
   "source": [
    "##### Method Overriding"
   ]
  },
  {
   "cell_type": "code",
   "execution_count": 21,
   "metadata": {
    "scrolled": true
   },
   "outputs": [
    {
     "name": "stdout",
     "output_type": "stream",
     "text": [
      "The mutt is a mix of Pitbull and boxer.\n",
      "galloping\n",
      "BARRRRK!\n"
     ]
    }
   ],
   "source": [
    "# See Above\n",
    "class Mutt(Dog):\n",
    "    def __init__(self, second_species, is_house_trained, name, species, legs=4):\n",
    "        super().__init__(is_house_trained, name, species, legs)\n",
    "        self.second_species = second_species\n",
    "        \n",
    "    def describe(self):\n",
    "        print(f\"The mutt is a mix of {self.species} and {self.second_species}.\")\n",
    "        \n",
    "tippi = Mutt('boxer', True, 'Tippi', 'Pitbull')\n",
    "\n",
    "tippi.describe()\n",
    "tippi.run()\n",
    "tippi.speak()\n",
    "    "
   ]
  },
  {
   "cell_type": "code",
   "execution_count": null,
   "metadata": {},
   "outputs": [],
   "source": [
    "dir(Dog)"
   ]
  },
  {
   "cell_type": "markdown",
   "metadata": {},
   "source": [
    "## Classes as Attributes <br>\n",
    "<p>Classes can also be used as attributes within another class. This is useful in situations where you need to keep variables locally stored, instead of globally stored.</p>"
   ]
  },
  {
   "cell_type": "code",
   "execution_count": 26,
   "metadata": {},
   "outputs": [
    {
     "name": "stdout",
     "output_type": "stream",
     "text": [
      "2020 Tesla 7.8 6 20\n",
      "recharging...\n"
     ]
    }
   ],
   "source": [
    "class ElectricCar():\n",
    "    def __init__(self, year, make, a_battery):\n",
    "        self.year = year\n",
    "        self.make = make\n",
    "        self.battery = a_battery\n",
    "        \n",
    "    def describe(self):\n",
    "        print(self.year, self.make, self.battery.volts, self.battery.time, self.battery.cells)\n",
    "        \n",
    "class Battery():\n",
    "    volts = 7.8\n",
    "    def __init__(self, cells):\n",
    "        self.cells = cells\n",
    "        self.time = 6\n",
    "        self.var = 'my battery'\n",
    "        \n",
    "    def recharge(self):\n",
    "        print('recharging...')\n",
    "\n",
    "tesla = ElectricCar(2020, 'Tesla', Battery(20))\n",
    "tesla.describe()\n",
    "tesla.battery.recharge()"
   ]
  },
  {
   "cell_type": "code",
   "execution_count": 32,
   "metadata": {},
   "outputs": [
    {
     "ename": "TypeError",
     "evalue": "__init__() missing 1 required positional argument: 'age'",
     "output_type": "error",
     "traceback": [
      "\u001b[0;31m---------------------------------------------------------------------------\u001b[0m",
      "\u001b[0;31mTypeError\u001b[0m                                 Traceback (most recent call last)",
      "\u001b[0;32m/var/folders/w9/p7gllp5j4jg0vm6b3g81k0cm0000gn/T/ipykernel_6972/2226034810.py\u001b[0m in \u001b[0;36m<module>\u001b[0;34m\u001b[0m\n\u001b[1;32m     18\u001b[0m             \u001b[0mresponse\u001b[0m \u001b[0;34m=\u001b[0m \u001b[0minput\u001b[0m\u001b[0;34m(\u001b[0m\u001b[0;34m'What do you want to do, run or rant?'\u001b[0m\u001b[0;34m)\u001b[0m\u001b[0;34m\u001b[0m\u001b[0;34m\u001b[0m\u001b[0m\n\u001b[1;32m     19\u001b[0m \u001b[0msage\u001b[0m \u001b[0;34m=\u001b[0m \u001b[0mPerson\u001b[0m\u001b[0;34m(\u001b[0m\u001b[0;34m'Sage'\u001b[0m\u001b[0;34m,\u001b[0m \u001b[0;36m27\u001b[0m\u001b[0;34m)\u001b[0m\u001b[0;34m\u001b[0m\u001b[0;34m\u001b[0m\u001b[0m\n\u001b[0;32m---> 20\u001b[0;31m \u001b[0mPerson\u001b[0m\u001b[0;34m(\u001b[0m\u001b[0msage\u001b[0m\u001b[0;34m)\u001b[0m\u001b[0;34m\u001b[0m\u001b[0;34m\u001b[0m\u001b[0m\n\u001b[0m",
      "\u001b[0;31mTypeError\u001b[0m: __init__() missing 1 required positional argument: 'age'"
     ]
    }
   ],
   "source": [
    "class Person():\n",
    "    def __init__(self, name, age):\n",
    "        self.name = name\n",
    "        self.name = age\n",
    "        \n",
    "    def run(self):\n",
    "        print(f\"{self.name} says Huff & Puff\")\n",
    "    \n",
    "    def rant(self):\n",
    "        print(f\"{self.name} says Epstein did not kill himself\")\n",
    "\n",
    "class UI():\n",
    "    def __init__(self, person):\n",
    "        self.person= person\n",
    "    \n",
    "    def main(self):\n",
    "        while True:\n",
    "            response = input('What do you want to do, run or rant?')\n",
    "sage = Person('Sage', 27)\n",
    "Person(sage)"
   ]
  },
  {
   "cell_type": "code",
   "execution_count": 28,
   "metadata": {},
   "outputs": [
    {
     "data": {
      "text/plain": [
       "datetime.datetime(2022, 4, 16, 16, 26, 27, 733221)"
      ]
     },
     "execution_count": 28,
     "metadata": {},
     "output_type": "execute_result"
    }
   ],
   "source": [
    "from datetime import datetime as dt\n",
    "dt.now()"
   ]
  },
  {
   "cell_type": "markdown",
   "metadata": {},
   "source": [
    "# Exercises"
   ]
  },
  {
   "cell_type": "markdown",
   "metadata": {},
   "source": [
    "### Exercise 1 - Turn the shopping cart program from yesterday into an object-oriented program"
   ]
  },
  {
   "cell_type": "code",
   "execution_count": 50,
   "metadata": {},
   "outputs": [
    {
     "name": "stdout",
     "output_type": "stream",
     "text": [
      "Would you like to show, add, modify, or quit?add\n",
      "What item would you like to add? orange\n",
      "How many oranges would you like to add? 7\n",
      "Would you like to show, add, modify, or quit?modify\n",
      "What item would you like to modify?orange\n",
      "How many oranges would you like to remove? 3\n",
      "Would you like to show, add, modify, or quit?show\n",
      "These are the items in your cart {'orange': 4} \n",
      "Would you like to show, add, modify, or quit?quit\n",
      "{'orange': 4}\n"
     ]
    }
   ],
   "source": [
    "# Create a class called cart that retains items and has methods to add, remove, and show\n",
    "\n",
    "class Cart():\n",
    "    \n",
    "    def __init__(self):\n",
    "        self.shopping_cart = {}\n",
    "    \n",
    "    def show(self):\n",
    "        print(f\"These are the items in your cart {self.shopping_cart} \")\n",
    "        \n",
    "    def add(self, add_item, add_quantity):\n",
    "        if add_item in self.shopping_cart:\n",
    "            self.shopping_cart[add_item] += add_quantity\n",
    "        else:\n",
    "            self.shopping_cart[add_item] = add_quantity\n",
    "    \n",
    "    def modify(self, modify_item, modify_quantity):\n",
    "        #check if quantity they want to remove is less than or equal to what's in the cart.\n",
    "        if modify_quantity >= self.shopping_cart[modify_item]:\n",
    "            print('Invalid Input')\n",
    "        else:\n",
    "            self.shopping_cart[modify_item] -= modify_quantity\n",
    "    \n",
    "    def quit(self):\n",
    "        print('Thank you for visiting! See you next time.')\n",
    "        print(self.shopping_cart)\n",
    "        \n",
    "class UI():\n",
    "    def __init__(self):\n",
    "        self.my_cart = Cart()\n",
    "    def run(self):\n",
    "        while True:\n",
    "            response = input(\"Would you like to show, add, modify, or quit? \").strip()\n",
    "            if response.lower() == 'quit':\n",
    "                self.my_cart.quit()\n",
    "                break\n",
    "            elif response.lower() == 'show':\n",
    "                self.my_cart.show()\n",
    "            elif response.lower() == 'add':\n",
    "                add_item = input(\"What item would you like to add? \").strip()\n",
    "                add_quantity = int(input(f\"How many {add_item}s would you like to add? \").strip())\n",
    "                self.my_cart.add(add_item, add_quantity)\n",
    "            elif response.lower() == 'modify':\n",
    "                modify_item = input(\"What item would you like to modify?\").strip()\n",
    "                modify_quantity = int(input(f\"How many {modify_item}s would you like to remove? \").strip())\n",
    "                self.my_cart.modify(modify_item, modify_quantity)\n",
    "            else:\n",
    "                print(\"Invalid input. Please choose to show, add, modify, or quit. \")\n",
    "#driver code\n",
    "my_ui = UI()\n",
    "my_ui.run()\n",
    "                \n",
    "        \n",
    "        \n",
    "    "
   ]
  },
  {
   "cell_type": "markdown",
   "metadata": {},
   "source": [
    "### Exercise 2 - Write a Python class which has two methods get_String and print_String. get_String accept a string from the user and print_String print the string in upper case"
   ]
  },
  {
   "cell_type": "code",
   "execution_count": 57,
   "metadata": {},
   "outputs": [
    {
     "name": "stdout",
     "output_type": "stream",
     "text": [
      "Type anything you want!hello!\n"
     ]
    },
    {
     "ename": "AttributeError",
     "evalue": "'UI' object has no attribute 'get_string'",
     "output_type": "error",
     "traceback": [
      "\u001b[0;31m---------------------------------------------------------------------------\u001b[0m",
      "\u001b[0;31mAttributeError\u001b[0m                            Traceback (most recent call last)",
      "\u001b[0;32m/var/folders/w9/p7gllp5j4jg0vm6b3g81k0cm0000gn/T/ipykernel_6972/1905765740.py\u001b[0m in \u001b[0;36m<module>\u001b[0;34m\u001b[0m\n\u001b[1;32m     14\u001b[0m             \u001b[0mself\u001b[0m\u001b[0;34m.\u001b[0m\u001b[0mprint_string\u001b[0m\u001b[0;34m(\u001b[0m\u001b[0;34m)\u001b[0m\u001b[0;34m\u001b[0m\u001b[0;34m\u001b[0m\u001b[0m\n\u001b[1;32m     15\u001b[0m \u001b[0mmy_ui\u001b[0m \u001b[0;34m=\u001b[0m \u001b[0mUI\u001b[0m\u001b[0;34m(\u001b[0m\u001b[0;34m)\u001b[0m\u001b[0;34m\u001b[0m\u001b[0;34m\u001b[0m\u001b[0m\n\u001b[0;32m---> 16\u001b[0;31m \u001b[0mmy_ui\u001b[0m\u001b[0;34m.\u001b[0m\u001b[0mrun\u001b[0m\u001b[0;34m(\u001b[0m\u001b[0;34m)\u001b[0m\u001b[0;34m\u001b[0m\u001b[0;34m\u001b[0m\u001b[0m\n\u001b[0m\u001b[1;32m     17\u001b[0m \u001b[0;34m\u001b[0m\u001b[0m\n\u001b[1;32m     18\u001b[0m \u001b[0;34m\u001b[0m\u001b[0m\n",
      "\u001b[0;32m/var/folders/w9/p7gllp5j4jg0vm6b3g81k0cm0000gn/T/ipykernel_6972/1905765740.py\u001b[0m in \u001b[0;36mrun\u001b[0;34m(self)\u001b[0m\n\u001b[1;32m     11\u001b[0m         \u001b[0;32mwhile\u001b[0m \u001b[0;32mTrue\u001b[0m\u001b[0;34m:\u001b[0m\u001b[0;34m\u001b[0m\u001b[0;34m\u001b[0m\u001b[0m\n\u001b[1;32m     12\u001b[0m             \u001b[0muser_input\u001b[0m \u001b[0;34m=\u001b[0m \u001b[0minput\u001b[0m\u001b[0;34m(\u001b[0m\u001b[0;34m\"Type anything you want!\"\u001b[0m\u001b[0;34m)\u001b[0m\u001b[0;34m\u001b[0m\u001b[0;34m\u001b[0m\u001b[0m\n\u001b[0;32m---> 13\u001b[0;31m             \u001b[0mself\u001b[0m\u001b[0;34m.\u001b[0m\u001b[0mget_string\u001b[0m\u001b[0;34m(\u001b[0m\u001b[0;34m)\u001b[0m\u001b[0;34m\u001b[0m\u001b[0;34m\u001b[0m\u001b[0m\n\u001b[0m\u001b[1;32m     14\u001b[0m             \u001b[0mself\u001b[0m\u001b[0;34m.\u001b[0m\u001b[0mprint_string\u001b[0m\u001b[0;34m(\u001b[0m\u001b[0;34m)\u001b[0m\u001b[0;34m\u001b[0m\u001b[0;34m\u001b[0m\u001b[0m\n\u001b[1;32m     15\u001b[0m \u001b[0mmy_ui\u001b[0m \u001b[0;34m=\u001b[0m \u001b[0mUI\u001b[0m\u001b[0;34m(\u001b[0m\u001b[0;34m)\u001b[0m\u001b[0;34m\u001b[0m\u001b[0;34m\u001b[0m\u001b[0m\n",
      "\u001b[0;31mAttributeError\u001b[0m: 'UI' object has no attribute 'get_string'"
     ]
    }
   ],
   "source": [
    "#make attribute to hold the string\n",
    "\n",
    "#i didn't really get to this one...but will work on it!\n",
    "class String():\n",
    "    def get_string(self, user_input):\n",
    "        print(f\"The user's input was: \")\n",
    "        \n",
    "    def print_string(self):\n",
    "        print(user_input.upper())\n",
    "        \n",
    "class UI():\n",
    "    def run(self):\n",
    "        while True:\n",
    "            user_input = input(\"Type anything you want!\")\n",
    "            self.get_string()\n",
    "            self.print_string()\n",
    "my_ui = UI()\n",
    "my_ui.run()\n",
    "        \n",
    "\n",
    "\n"
   ]
  },
  {
   "cell_type": "code",
   "execution_count": null,
   "metadata": {},
   "outputs": [],
   "source": []
  }
 ],
 "metadata": {
  "kernelspec": {
   "display_name": "Python 3 (ipykernel)",
   "language": "python",
   "name": "python3"
  },
  "language_info": {
   "codemirror_mode": {
    "name": "ipython",
    "version": 3
   },
   "file_extension": ".py",
   "mimetype": "text/x-python",
   "name": "python",
   "nbconvert_exporter": "python",
   "pygments_lexer": "ipython3",
   "version": "3.9.7"
  }
 },
 "nbformat": 4,
 "nbformat_minor": 2
}
